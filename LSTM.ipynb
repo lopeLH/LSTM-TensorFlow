{
 "cells": [
  {
   "cell_type": "code",
   "execution_count": 1,
   "metadata": {
    "collapsed": false
   },
   "outputs": [
    {
     "name": "stdout",
     "output_type": "stream",
     "text": [
      "Extracting MNIST_data/train-images-idx3-ubyte.gz\n",
      "Extracting MNIST_data/train-labels-idx1-ubyte.gz\n",
      "Extracting MNIST_data/t10k-images-idx3-ubyte.gz\n",
      "Extracting MNIST_data/t10k-labels-idx1-ubyte.gz\n"
     ]
    }
   ],
   "source": [
    "%matplotlib inline\n",
    "\n",
    "import tensorflow as tf\n",
    "import matplotlib.pyplot as plt\n",
    "import numpy as np\n",
    "\n",
    "import tensorflow as tf\n",
    "from tensorflow.models.rnn import rnn, rnn_cell\n",
    "\n",
    "from tensorflow.examples.tutorials.mnist import input_data\n",
    "mnist = input_data.read_data_sets(\"MNIST_data/\", one_hot=True)\n",
    "\n"
   ]
  },
  {
   "cell_type": "code",
   "execution_count": 2,
   "metadata": {
    "collapsed": true
   },
   "outputs": [],
   "source": [
    "'''\n",
    "NOTE: These parameters are ajusted for a very fast training stage\n",
    " if you have a cuda-enabled GPU and free time you can try to tune \n",
    " them to optain an optimal performance\n",
    "'''\n",
    "\n",
    "# Network Parameters\n",
    "n_input = 28 # MNIST data input (img shape: 28*28)\n",
    "n_steps = 16 # timesteps\n",
    "n_hidden = 200 # hidden layer num of features\n",
    "n_output = 28 # MNIST total classes (0-9 digits)\n",
    "\n",
    "\n",
    "training_iters = 10000\n",
    "\n",
    "batch_size = 200"
   ]
  },
  {
   "cell_type": "code",
   "execution_count": 3,
   "metadata": {
    "collapsed": false
   },
   "outputs": [],
   "source": [
    "# tf Graph input\n",
    "x = tf.placeholder(\"float\", [None, n_steps, n_input])\n",
    "y_ = tf.placeholder(\"float\", [None, n_output])\n",
    "\n",
    "w_fc1 = tf.Variable(tf.random_normal([n_input, n_hidden])) # Hidden layer weights\n",
    "b_fc1 = tf.Variable(tf.random_normal([n_hidden]))\n",
    "\n",
    "w_fc2 = tf.Variable(tf.random_normal([n_hidden, n_output]))\n",
    "b_fc2 = tf.Variable(tf.random_normal([n_output]))\n",
    "\n",
    "# input shape: (batch_size, n_steps, n_input)\n",
    "x_internal = tf.transpose(x, [1, 0, 2])\n",
    "x_internal = tf.reshape(x_internal, [-1, n_input]) # (n_steps*batch_size, n_input)\n",
    "\n",
    "lstm_cell = rnn_cell.BasicLSTMCell(n_hidden, forget_bias=1.0)\n",
    "istate = lstm_cell.zero_state(batch_size*(28-n_steps), tf.float32)\n",
    "\n",
    "\n",
    "h_fc1 = tf.nn.relu(tf.matmul(x_internal, w_fc1) + b_fc1)\n",
    "h_fc1 = tf.split(0, n_steps, h_fc1) # n_steps * (batch_size, n_hidden)\n",
    "outputs, states = rnn.rnn(lstm_cell, h_fc1, dtype=tf.float32)\n",
    "y = tf.nn.sigmoid(tf.matmul(outputs[-1], w_fc2) + b_fc2)\n",
    "\n",
    "\n",
    "#mse = tf.reduce_mean(tf.square(y_-y)) # MSE loss\n",
    "#optimizer = tf.train.AdamOptimizer(0.0015).minimize(mse)\n",
    "\n",
    "sess = tf.Session()\n",
    "sess.run(tf.initialize_all_variables())"
   ]
  },
  {
   "cell_type": "code",
   "execution_count": 120,
   "metadata": {
    "collapsed": false
   },
   "outputs": [],
   "source": [
    "#''' \n",
    "# This function creates several training sequences from each\n",
    "# MNIST sample image, each training sequence consists of #n_steps samples\n",
    "# with 28 features.\n",
    "#'''\n",
    "\n",
    "#def sequencesFromTrainingData(data, nSteps):\n",
    "    \n",
    "#    X = []\n",
    "#    Y = []\n",
    "    \n",
    "#    for sample in data:\n",
    "#        sample = sample.reshape((28,28))\n",
    "#        for i in range(28-nSteps):\n",
    "#            X.append(sample[i:i+nSteps,:])\n",
    "#            Y.append(sample[i+nSteps][:])\n",
    "#    return np.asarray(X), np.asarray(Y)\n",
    "        \n"
   ]
  },
  {
   "cell_type": "code",
   "execution_count": 121,
   "metadata": {
    "collapsed": false
   },
   "outputs": [],
   "source": [
    "# Initializing the variables\n",
    "#init = tf.initialize_all_variables()\n",
    "\n",
    "#step = 1\n",
    "\n",
    "#for i in range(training_iters):\n",
    "#    batch_xs,_ = mnist.train.next_batch(batch_size)\n",
    "#    batch_xs, batch_ys = sequencesFromTrainingData(batch_xs, n_steps)\n",
    "#    sess.run(optimizer, feed_dict={x: batch_xs, y_: batch_ys})\n",
    "#    if step % 100 == 0:\n",
    "#        loss = sess.run(mse, feed_dict={x: batch_xs, y_: batch_ys})\n",
    "#        print \"Iter \" + str(step) + \", Minibatch Loss= \" + \"{:.6f}\".format(loss)\n",
    "#    step += 1\n",
    "    \n",
    "#print \"Optimization Finished!\" "
   ]
  },
  {
   "cell_type": "code",
   "execution_count": 119,
   "metadata": {
    "collapsed": false
   },
   "outputs": [],
   "source": [
    "#saver = tf.train.Saver()\n",
    "#save_path = saver.save(sess, \"./LSTM.ckpt\")\n",
    "#print(\"Model saved in file: %s\" % save_path)"
   ]
  },
  {
   "cell_type": "code",
   "execution_count": 4,
   "metadata": {
    "collapsed": false
   },
   "outputs": [
    {
     "name": "stdout",
     "output_type": "stream",
     "text": [
      "Model restored!\n"
     ]
    }
   ],
   "source": [
    "saver = tf.train.Saver()\n",
    "saver.restore(sess, \"./LSTM.ckpt\")\n",
    "print(\"Model restored!\")"
   ]
  },
  {
   "cell_type": "code",
   "execution_count": 5,
   "metadata": {
    "collapsed": false
   },
   "outputs": [
    {
     "name": "stdout",
     "output_type": "stream",
     "text": [
      "(62, 784)\n"
     ]
    },
    {
     "data": {
      "image/png": "[encoded data removed]",
      "text/plain": [
       "<matplotlib.figure.Figure at 0x7ff9d8a3bed0>"
      ]
     },
     "metadata": {},
     "output_type": "display_data"
    },
    {
     "data": {
      "text/plain": [
       "<matplotlib.image.AxesImage at 0x7ff9b6dc9990>"
      ]
     },
     "execution_count": 5,
     "metadata": {},
     "output_type": "execute_result"
    },
    {
     "data": {
      "image/png": "[encoded data removed]",
      "text/plain": [
       "<matplotlib.figure.Figure at 0x7ff9b6eacfd0>"
      ]
     },
     "metadata": {},
     "output_type": "display_data"
    }
   ],
   "source": [
    "'''\n",
    "Here the trained network is used to reconstruct a digit in a more difficult way.\n",
    "The network observes only the #n_steps first rows of the original image \n",
    "and then it tries to reconstruct the rest\n",
    "\n",
    "Note that the window of #n_steps observerd rows moves down as the digit is reconstructed so\n",
    "each predicted row is considered as part of the input for the next prediction. \n",
    "'''\n",
    "\n",
    "import matplotlib as mpl \n",
    "\n",
    "batchX, batchY = mnist.test.next_batch(600)\n",
    "\n",
    "digits = np.argmax(batchY, axis=1) == 3\n",
    "print batchX[digits].shape\n",
    "sample = batchX[digits][0].reshape(28,28)\n",
    "\n",
    "\n",
    "plt.imshow(sample, interpolation=\"none\", cmap=\"gray\")\n",
    "plt.show()\n",
    "\n",
    "\n",
    "\n",
    "line = np.zeros((28,28))\n",
    "line[n_steps, :] = 1\n",
    "line = np.ma.masked_where(y == 0, y)\n",
    "\n",
    "\n",
    "\n",
    "for i in range(28-n_steps):\n",
    "    p = sess.run(y, feed_dict={x: [sample[i:i+n_steps,:]],\n",
    "                          istate: np.zeros((1, 2*n_hidden))} )\n",
    "    sample[i+n_steps] = p\n",
    "\n",
    "sampleRGB = np.zeros((28,28,3))   \n",
    "\n",
    "sampleRGB[:,:,0] = sample\n",
    "sampleRGB[:,:,1] = sample\n",
    "sampleRGB[:,:,2] = sample\n",
    "\n",
    "sampleRGB[15,:,:] = 0\n",
    "sampleRGB[15,:,0] = 1\n",
    "    \n",
    "# The red line divides the observed part from the reconstructed part.\n",
    "# Note that sometimes the net can not identify the digit correctly \n",
    "# but it draws a consistent digit anyway    \n",
    "    \n",
    "plt.imshow(sampleRGB, interpolation=\"none\")\n"
   ]
  },
  {
   "cell_type": "code",
   "execution_count": null,
   "metadata": {
    "collapsed": true
   },
   "outputs": [],
   "source": []
  }
 ],
 "metadata": {
  "kernelspec": {
   "display_name": "Python 2",
   "language": "python",
   "name": "python2"
  },
  "language_info": {
   "codemirror_mode": {
    "name": "ipython",
    "version": 2
   },
   "file_extension": ".py",
   "mimetype": "text/x-python",
   "name": "python",
   "nbconvert_exporter": "python",
   "pygments_lexer": "ipython2",
   "version": "2.7.6"
  }
 },
 "nbformat": 4,
 "nbformat_minor": 0
}
